{
 "cells": [
  {
   "cell_type": "markdown",
   "id": "8007d416-9c92-4cee-9c94-276de3d0bfb2",
   "metadata": {},
   "source": [
    "# Load the book"
   ]
  },
  {
   "cell_type": "code",
   "execution_count": 1,
   "id": "4b8c7efb-4b67-415d-a502-98feed503874",
   "metadata": {},
   "outputs": [],
   "source": [
    "with open(\"miracle_in_the_andes.txt\", \"r\", encoding=\"utf-8\") as file:\n",
    "    book=file.read()"
   ]
  },
  {
   "cell_type": "code",
   "execution_count": 2,
   "id": "efce32d1-cdf6-4a14-a111-aba9512f9ea4",
   "metadata": {},
   "outputs": [
    {
     "data": {
      "text/plain": [
       "str"
      ]
     },
     "execution_count": 2,
     "metadata": {},
     "output_type": "execute_result"
    }
   ],
   "source": [
    "type(book)"
   ]
  },
  {
   "cell_type": "markdown",
   "id": "4eddff30-07e5-4526-8c7d-978a8cf4bcd8",
   "metadata": {},
   "source": [
    "# Count no. of chapters"
   ]
  },
  {
   "cell_type": "markdown",
   "id": "2f72dbb9-4d21-4833-a100-f9535910e019",
   "metadata": {},
   "source": [
    "### with string methods"
   ]
  },
  {
   "cell_type": "code",
   "execution_count": 3,
   "id": "4a3bfdef-9646-41ed-9952-f0006304a57e",
   "metadata": {},
   "outputs": [
    {
     "data": {
      "text/plain": [
       "11"
      ]
     },
     "execution_count": 3,
     "metadata": {},
     "output_type": "execute_result"
    }
   ],
   "source": [
    "book.count(\"Chapter\")"
   ]
  },
  {
   "cell_type": "markdown",
   "id": "8fc3ec8f-1c9e-4f01-ad4b-807e04a7f1bd",
   "metadata": {},
   "source": [
    "### with regex"
   ]
  },
  {
   "cell_type": "code",
   "execution_count": 4,
   "id": "4623bf8c-b33b-4de2-9c62-764230e7ded3",
   "metadata": {},
   "outputs": [],
   "source": [
    "import re"
   ]
  },
  {
   "cell_type": "code",
   "execution_count": 5,
   "id": "b2ba3e04-859c-4ee7-8874-c0200f38bef9",
   "metadata": {},
   "outputs": [
    {
     "data": {
      "text/plain": [
       "10"
      ]
     },
     "execution_count": 5,
     "metadata": {},
     "output_type": "execute_result"
    }
   ],
   "source": [
    "pattern=re.compile(\"Chapter [0-9]+\")\n",
    "len(re.findall(pattern, book))"
   ]
  },
  {
   "cell_type": "markdown",
   "id": "1697d5c0-05e6-4d1d-8570-1647575b141a",
   "metadata": {},
   "source": [
    "# Which are the sentences where \"love\" was used"
   ]
  },
  {
   "cell_type": "code",
   "execution_count": 21,
   "id": "202fa9bc-4da5-4f68-9660-2cbb2df31152",
   "metadata": {},
   "outputs": [
    {
     "data": {
      "text/plain": [
       "['As a young man, of course, I could not put these things into words, but I knew, and my teammates knew, that there was something special about the game, and under the guidance of the Christian Brothers we developed a passionate love for the sport that shaped our friendships and our lives',\n",
       " 'Guido and I grew up together, playing soccer and sharing a love of motorcycles, cars, and auto racing',\n",
       " 'Under the guidance of the Christian Brothers, both of us grew to love the game of rugby with a consuming passion',\n",
       " 'That rowdiness came to an abrupt end for Guido in 1969, when he met and fell in love with the beautiful daughter of a Chilean diplomat',\n",
       " 'I believe he had a great hunger for the love and comforts of a family that was happy and whole',\n",
       " 'He shared, with my father and me, a love for cars and driving, and he loved going with us to auto races',\n",
       " 'The house had a beautiful view of the sea, and this more than anything made my mother love it',\n",
       " 'She was a true tower of strength, but her strength was always based in warmth and love and because of her love and protection I grew up believing the world was a safe, familiar place',\n",
       " 'He had given us a life of comfort and privilege such as his own father never could have imagined, he had provided for us and protected us in the best way he could, and though he was not an emotionally expressive man, he always showed his love for us subtly, quietly, and in ways that were true to the man he was',\n",
       " 'Out of love for his family he had arranged in his mind a future that would keep us all safe, happy, and always together']"
      ]
     },
     "execution_count": 21,
     "metadata": {},
     "output_type": "execute_result"
    }
   ],
   "source": [
    "pattern=re.compile(\"[A-Z]{1}[^.]*[^a-zA-Z]+love+[^a-zA-Z][^.]*\")\n",
    "re.findall(pattern, book)[:10]"
   ]
  },
  {
   "cell_type": "markdown",
   "id": "205f882f-13f2-44f7-9d2b-cd46fe8cc8f3",
   "metadata": {},
   "source": [
    "# What are the most used words"
   ]
  },
  {
   "cell_type": "code",
   "execution_count": 8,
   "id": "3206f941-39ee-4bce-a1ce-63877ef0d2fa",
   "metadata": {},
   "outputs": [],
   "source": [
    "pattern=re.compile(\"[a-zA-Z]+\")\n",
    "findings=re.findall(pattern, book.lower())"
   ]
  },
  {
   "cell_type": "code",
   "execution_count": 17,
   "id": "11080db3-4247-409e-b186-e340a752fbdd",
   "metadata": {},
   "outputs": [],
   "source": [
    "d={}\n",
    "for word in findings:\n",
    "    if word in d.keys():\n",
    "        d[word]=d[word]+1\n",
    "    else:\n",
    "        d[word]=1"
   ]
  },
  {
   "cell_type": "code",
   "execution_count": 23,
   "id": "2df6e442-fae5-4cef-860e-7579434f377a",
   "metadata": {},
   "outputs": [
    {
     "data": {
      "text/plain": [
       "[(5346, 'the'),\n",
       " (2795, 'and'),\n",
       " (2729, 'i'),\n",
       " (2400, 'to'),\n",
       " (2060, 'of'),\n",
       " (1566, 'a'),\n",
       " (1430, 'was'),\n",
       " (1419, 'in'),\n",
       " (1226, 'we'),\n",
       " (1169, 'my')]"
      ]
     },
     "execution_count": 23,
     "metadata": {},
     "output_type": "execute_result"
    }
   ],
   "source": [
    "d_list=[(value, key) for (key, value) in d.items()]\n",
    "d_list=sorted(d_list, reverse=True)\n",
    "d_list[:10]"
   ]
  }
 ],
 "metadata": {
  "kernelspec": {
   "display_name": "Python 3 (ipykernel)",
   "language": "python",
   "name": "python3"
  },
  "language_info": {
   "codemirror_mode": {
    "name": "ipython",
    "version": 3
   },
   "file_extension": ".py",
   "mimetype": "text/x-python",
   "name": "python",
   "nbconvert_exporter": "python",
   "pygments_lexer": "ipython3",
   "version": "3.12.6"
  }
 },
 "nbformat": 4,
 "nbformat_minor": 5
}
