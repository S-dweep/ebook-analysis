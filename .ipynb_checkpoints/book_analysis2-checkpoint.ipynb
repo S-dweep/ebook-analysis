{
 "cells": [
  {
   "cell_type": "markdown",
   "id": "dc136a88-ce95-483d-a076-a7d69f99a038",
   "metadata": {},
   "source": [
    "# load the book"
   ]
  },
  {
   "cell_type": "code",
   "execution_count": 1,
   "id": "9b56e823-d3bb-4a6a-85dd-993800a98af4",
   "metadata": {},
   "outputs": [],
   "source": [
    "with open(\"miracle_in_the_andes.txt\", \"r\", encoding=\"utf-8\") as file:\n",
    "    book=file.read()"
   ]
  },
  {
   "cell_type": "markdown",
   "id": "bf953111-34dc-4ec0-ba9c-92115fd4f427",
   "metadata": {},
   "source": [
    "# most used words(non-articles)"
   ]
  },
  {
   "cell_type": "code",
   "execution_count": 2,
   "id": "1aa517bf-a943-4cc8-80f7-528f1a306467",
   "metadata": {},
   "outputs": [],
   "source": [
    "import re\n",
    "pattern=re.compile(\"[a-zA-Z]+\")\n",
    "findings=re.findall(pattern, book.lower())"
   ]
  },
  {
   "cell_type": "code",
   "execution_count": 3,
   "id": "616bcacf-3477-4523-9bed-3cf2a4a8d64c",
   "metadata": {},
   "outputs": [],
   "source": [
    "d={}\n",
    "for word in findings:\n",
    "    if word in d.keys():\n",
    "        d[word]=d[word]+1\n",
    "    else:\n",
    "        d[word]=1"
   ]
  },
  {
   "cell_type": "code",
   "execution_count": 4,
   "id": "7dd461d8-ec5c-4a4f-ae7b-e3526454e571",
   "metadata": {},
   "outputs": [],
   "source": [
    "d_list=[(value, key) for (key, value) in d.items()]\n",
    "d_list=sorted(d_list, reverse=True)"
   ]
  },
  {
   "cell_type": "code",
   "execution_count": 5,
   "id": "99566498-4bca-4609-b3f9-ef6d7927522d",
   "metadata": {},
   "outputs": [],
   "source": [
    "import nltk\n",
    "\n",
    "from nltk.corpus import stopwords\n",
    "english_stopwords=stopwords.words(\"english\")"
   ]
  },
  {
   "cell_type": "code",
   "execution_count": 6,
   "id": "541ef77f-061d-414e-af92-976fdd5d5a81",
   "metadata": {},
   "outputs": [
    {
     "data": {
      "text/plain": [
       "[('would', 575),\n",
       " ('us', 519),\n",
       " ('said', 292),\n",
       " ('roberto', 284),\n",
       " ('could', 252),\n",
       " ('one', 249),\n",
       " ('snow', 227),\n",
       " ('mountain', 183),\n",
       " ('time', 182),\n",
       " ('like', 165)]"
      ]
     },
     "execution_count": 6,
     "metadata": {},
     "output_type": "execute_result"
    }
   ],
   "source": [
    "filtered_words=[]\n",
    "for count, word in d_list:\n",
    "    if word not in english_stopwords:\n",
    "        filtered_words.append((word, count))\n",
    "filtered_words[:10]"
   ]
  },
  {
   "cell_type": "markdown",
   "id": "d57c270b-9d9a-41d2-b847-941c9a83cf0f",
   "metadata": {},
   "source": [
    "# sentiment analysis - most positive and negative chapter"
   ]
  },
  {
   "cell_type": "code",
   "execution_count": 13,
   "id": "f4d84e96-69e9-4ecf-bba4-9fc1c572e5e0",
   "metadata": {},
   "outputs": [
    {
     "data": {
      "text/plain": [
       "<nltk.sentiment.vader.SentimentIntensityAnalyzer at 0x21721e4e240>"
      ]
     },
     "execution_count": 13,
     "metadata": {},
     "output_type": "execute_result"
    }
   ],
   "source": [
    "from nltk.sentiment import SentimentIntensityAnalyzer\n",
    "analyzer=SentimentIntensityAnalyzer()\n",
    "analyzer"
   ]
  },
  {
   "cell_type": "code",
   "execution_count": 15,
   "id": "fd32a16b-e09f-4fd9-85e6-86a1ed9dd193",
   "metadata": {},
   "outputs": [
    {
     "data": {
      "text/plain": [
       "{'neg': 0.116, 'neu': 0.76, 'pos': 0.125, 'compound': 1.0}"
      ]
     },
     "execution_count": 15,
     "metadata": {},
     "output_type": "execute_result"
    }
   ],
   "source": [
    "analyzer.polarity_scores(book)"
   ]
  },
  {
   "cell_type": "code",
   "execution_count": 22,
   "id": "c63c66e3-517f-46dc-a902-e8449833ceaf",
   "metadata": {},
   "outputs": [],
   "source": [
    "pattern=re.compile(\"Chapter [0-9]+\")\n",
    "chapters=re.split(pattern, book)\n",
    "chapters=chapters[1:]"
   ]
  },
  {
   "cell_type": "code",
   "execution_count": 26,
   "id": "afe5e512-a93a-4582-a7bc-a6323d864154",
   "metadata": {},
   "outputs": [
    {
     "name": "stdout",
     "output_type": "stream",
     "text": [
      "1 {'neg': 0.061, 'neu': 0.779, 'pos': 0.16, 'compound': 1.0}\n",
      "2 {'neg': 0.12, 'neu': 0.726, 'pos': 0.154, 'compound': 0.9991}\n",
      "3 {'neg': 0.145, 'neu': 0.751, 'pos': 0.105, 'compound': -0.9999}\n",
      "4 {'neg': 0.141, 'neu': 0.721, 'pos': 0.138, 'compound': -0.9963}\n",
      "5 {'neg': 0.118, 'neu': 0.742, 'pos': 0.141, 'compound': 0.9997}\n",
      "6 {'neg': 0.124, 'neu': 0.761, 'pos': 0.115, 'compound': -0.9979}\n",
      "7 {'neg': 0.136, 'neu': 0.761, 'pos': 0.103, 'compound': -0.9999}\n",
      "8 {'neg': 0.12, 'neu': 0.786, 'pos': 0.094, 'compound': -0.9998}\n",
      "9 {'neg': 0.097, 'neu': 0.824, 'pos': 0.079, 'compound': -0.9996}\n",
      "10 {'neg': 0.086, 'neu': 0.733, 'pos': 0.181, 'compound': 1.0}\n"
     ]
    }
   ],
   "source": [
    "for num, ch in enumerate(chapters):\n",
    "    scores=analyzer.polarity_scores(ch)\n",
    "    print(num+1, scores)"
   ]
  }
 ],
 "metadata": {
  "kernelspec": {
   "display_name": "Python 3 (ipykernel)",
   "language": "python",
   "name": "python3"
  },
  "language_info": {
   "codemirror_mode": {
    "name": "ipython",
    "version": 3
   },
   "file_extension": ".py",
   "mimetype": "text/x-python",
   "name": "python",
   "nbconvert_exporter": "python",
   "pygments_lexer": "ipython3",
   "version": "3.12.6"
  }
 },
 "nbformat": 4,
 "nbformat_minor": 5
}
