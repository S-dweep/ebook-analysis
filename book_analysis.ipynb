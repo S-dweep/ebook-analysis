{
 "cells": [
  {
   "cell_type": "markdown",
   "id": "8007d416-9c92-4cee-9c94-276de3d0bfb2",
   "metadata": {},
   "source": [
    "# Load the book"
   ]
  },
  {
   "cell_type": "code",
   "execution_count": 3,
   "id": "4b8c7efb-4b67-415d-a502-98feed503874",
   "metadata": {},
   "outputs": [],
   "source": [
    "with open(\"miracle_in_the_andes.txt\", \"r\", encoding=\"utf-8\") as file:\n",
    "    book=file.read()"
   ]
  },
  {
   "cell_type": "code",
   "execution_count": 5,
   "id": "efce32d1-cdf6-4a14-a111-aba9512f9ea4",
   "metadata": {},
   "outputs": [
    {
     "data": {
      "text/plain": [
       "str"
      ]
     },
     "execution_count": 5,
     "metadata": {},
     "output_type": "execute_result"
    }
   ],
   "source": [
    "type(book)"
   ]
  },
  {
   "cell_type": "markdown",
   "id": "4eddff30-07e5-4526-8c7d-978a8cf4bcd8",
   "metadata": {},
   "source": [
    "# Count no. of chapters"
   ]
  },
  {
   "cell_type": "markdown",
   "id": "2f72dbb9-4d21-4833-a100-f9535910e019",
   "metadata": {},
   "source": [
    "### with string methods"
   ]
  },
  {
   "cell_type": "code",
   "execution_count": 6,
   "id": "4a3bfdef-9646-41ed-9952-f0006304a57e",
   "metadata": {},
   "outputs": [
    {
     "data": {
      "text/plain": [
       "11"
      ]
     },
     "execution_count": 6,
     "metadata": {},
     "output_type": "execute_result"
    }
   ],
   "source": [
    "book.count(\"Chapter\")"
   ]
  },
  {
   "cell_type": "markdown",
   "id": "8fc3ec8f-1c9e-4f01-ad4b-807e04a7f1bd",
   "metadata": {},
   "source": [
    "### with regex"
   ]
  },
  {
   "cell_type": "code",
   "execution_count": 7,
   "id": "4623bf8c-b33b-4de2-9c62-764230e7ded3",
   "metadata": {},
   "outputs": [],
   "source": [
    "import re"
   ]
  },
  {
   "cell_type": "code",
   "execution_count": 11,
   "id": "b2ba3e04-859c-4ee7-8874-c0200f38bef9",
   "metadata": {},
   "outputs": [
    {
     "data": {
      "text/plain": [
       "10"
      ]
     },
     "execution_count": 11,
     "metadata": {},
     "output_type": "execute_result"
    }
   ],
   "source": [
    "pattern=re.compile(\"Chapter [0-9]+\")\n",
    "len(re.findall(pattern, book))"
   ]
  },
  {
   "cell_type": "markdown",
   "id": "1697d5c0-05e6-4d1d-8570-1647575b141a",
   "metadata": {},
   "source": [
    "# Which are the sentences where \"love\" was used"
   ]
  },
  {
   "cell_type": "code",
   "execution_count": 29,
   "id": "202fa9bc-4da5-4f68-9660-2cbb2df31152",
   "metadata": {},
   "outputs": [
    {
     "data": {
      "text/plain": [
       "67"
      ]
     },
     "execution_count": 29,
     "metadata": {},
     "output_type": "execute_result"
    }
   ],
   "source": [
    "pattern=re.compile(\"[A-Z]{1}[^.]*[^a-zA-Z]+love+[^a-zA-Z][^.]*\")\n",
    "len(re.findall(pattern, book))"
   ]
  },
  {
   "cell_type": "markdown",
   "id": "205f882f-13f2-44f7-9d2b-cd46fe8cc8f3",
   "metadata": {},
   "source": [
    "# What are the most used words"
   ]
  },
  {
   "cell_type": "code",
   "execution_count": 36,
   "id": "3206f941-39ee-4bce-a1ce-63877ef0d2fa",
   "metadata": {},
   "outputs": [
    {
     "data": {
      "text/plain": [
       "86798"
      ]
     },
     "execution_count": 36,
     "metadata": {},
     "output_type": "execute_result"
    }
   ],
   "source": [
    "pattern=re.compile(\"[a-zA-Z]+\")\n",
    "len(re.findall(pattern, book.lower()))"
   ]
  }
 ],
 "metadata": {
  "kernelspec": {
   "display_name": "Python 3 (ipykernel)",
   "language": "python",
   "name": "python3"
  },
  "language_info": {
   "codemirror_mode": {
    "name": "ipython",
    "version": 3
   },
   "file_extension": ".py",
   "mimetype": "text/x-python",
   "name": "python",
   "nbconvert_exporter": "python",
   "pygments_lexer": "ipython3",
   "version": "3.12.6"
  }
 },
 "nbformat": 4,
 "nbformat_minor": 5
}
